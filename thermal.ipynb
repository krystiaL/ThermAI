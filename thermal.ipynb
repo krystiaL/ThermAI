{
 "cells": [
  {
   "cell_type": "markdown",
   "id": "7e37584a-ae58-45e1-8a13-ae84f5ed8f3e",
   "metadata": {},
   "source": [
    "# ThermAl"
   ]
  },
  {
   "cell_type": "markdown",
   "id": "355e7fc2-9c15-4f56-a9e9-deafb14a852d",
   "metadata": {},
   "source": [
    "ThermAl model will be created to predict clothing clo values\n",
    "\n",
    "**Objectives:**\n",
    "- predict the CLO value of individual garment \n",
    "- after base model is created, entire pipeline to predict the CLO value of the entire clothing ensemble\n",
    "\n",
    "**to do's:**\n",
    "\n",
    "1. Data exploration\n",
    "2. Preprocessing pipeline\n",
    "3. Modeling\n",
    "4. Model training and performace measuring"
   ]
  },
  {
   "cell_type": "markdown",
   "id": "afcf2f4f-3ae0-4701-bc0c-5a0b93b9e51b",
   "metadata": {},
   "source": [
    "### Imports"
   ]
  },
  {
   "cell_type": "markdown",
   "id": "6371fbdf-c917-4cdf-b0ac-f712c61648d7",
   "metadata": {},
   "source": [
    "## Loading the Data"
   ]
  },
  {
   "cell_type": "markdown",
   "id": "ccac9188-bfd6-45cb-b43c-cb4f8cbbb24f",
   "metadata": {},
   "source": [
    "## Data Exploration"
   ]
  },
  {
   "cell_type": "markdown",
   "id": "0a64750e-3ab1-4efd-8c1d-c77a96f0efb2",
   "metadata": {},
   "source": [
    "## Feature Engineer CLO"
   ]
  },
  {
   "cell_type": "markdown",
   "id": "b7f957c0-4ed1-4b33-b218-5e63c6f6b184",
   "metadata": {},
   "source": [
    "## Model"
   ]
  },
  {
   "cell_type": "code",
   "execution_count": null,
   "id": "7ac97204-4b6b-40c2-9fd1-a6bbeb4edb1c",
   "metadata": {},
   "outputs": [],
   "source": []
  }
 ],
 "metadata": {
  "kernelspec": {
   "display_name": "Python 3 (ipykernel)",
   "language": "python",
   "name": "python3"
  },
  "language_info": {
   "codemirror_mode": {
    "name": "ipython",
    "version": 3
   },
   "file_extension": ".py",
   "mimetype": "text/x-python",
   "name": "python",
   "nbconvert_exporter": "python",
   "pygments_lexer": "ipython3",
   "version": "3.10.6"
  }
 },
 "nbformat": 4,
 "nbformat_minor": 5
}
